{
 "cells": [
  {
   "cell_type": "markdown",
   "id": "ac7093f1",
   "metadata": {},
   "source": [
    "# Exercise 1 - Overview\n",
    "\n",
    "Do your work for this exercise in a jupyter notebook named hypothesis_testing.ipynb.\n",
    "\n",
    "For each of the following questions, \n",
    "* formulate a null and alternative hypothesis (be as specific as you can be), \n",
    "* then give an example of what a true positive, true negative, type I and type II errors would look like. \n",
    "\n",
    "Note that some of the questions are intentionally phrased in a vague way. \n",
    "\n",
    "It is your job to reword these as more precise questions that could be tested."
   ]
  },
  {
   "cell_type": "markdown",
   "id": "1be207fd",
   "metadata": {},
   "source": [
    "1. Has the network latency gone up since we switched internet service providers?"
   ]
  },
  {
   "cell_type": "markdown",
   "id": "1510c443",
   "metadata": {},
   "source": [
    "#### T-Test\n",
    "\n",
    "DISCREAT: Switched Providers New/Old\n",
    "```vs```\n",
    "CONTINUOUS: Mean of Latency\n",
    "\n",
    "$H_{0}$: Mean of Latency.Old <= Mean of Latency.New\n",
    "\n",
    "$H_{a}$: Mean of Latency.Old > Mean of Latency.New\n",
    "\n",
    "True Pos: Rejected H0 and H0 was False (our True was True)\n",
    "\"Latency went up and we said it did\"\n",
    "\n",
    "True Neg: Accept the H0 and H0 is True (our False was True) \n",
    "\"Latency went did not go up and we said it did not\"\n",
    "\n",
    "Type I Error: Rejected the H0 BUT the H0 was True (our True was False; No Wolf)\n",
    "We rejected the NULL statement BUT it was NULL\n",
    "\n",
    "Type II Error: Accept H0 BUT H0 is False (our False was True; We didn't believe in the Wolf BUT he was Real)\n",
    "We accepted the NULL BUT it was not NULL"
   ]
  },
  {
   "cell_type": "markdown",
   "id": "bdce80e0",
   "metadata": {},
   "source": [
    "### WRONG\n",
    "\n",
    "Chi-Squared \n",
    "```=``` \n",
    "DISCREAT: Latency up True/False \n",
    "```vs```\n",
    "DISCREAT: Switched Providers New/Old\n",
    "\n",
    "H0: Network Latency is NOT Relational to new Service Provider\n",
    "\n",
    "Ha: Network Latency is Relational to new Service Provider\n",
    "\n",
    "True Pos: Rejected H0 and H0 was False (our True was True)\n",
    "\"There is a Significant Relationship between the increase of Latency and our switch to a New Service Provider\"\n",
    "\n",
    "True Neg: Accept the H0 and H0 is True (our False was True) \n",
    "\"There was little evidence of a Relationship between the increase of Latency and our switch to a New Service Provider\"\n",
    "\n",
    "Type I Error: Rejected the H0 BUT the H0 was True (our True was False; No Wolf)\n",
    "We rejected the NULL statement BUT it was NULL\n",
    "\n",
    "Type II Error: Accept H0 BUT H0 is False (our False was True; We didn't believe in the Wolf BUT he was Real)\n",
    "We accepted the NULL BUT it was not NULL"
   ]
  },
  {
   "cell_type": "markdown",
   "id": "74f9728b",
   "metadata": {},
   "source": [
    "2. Is the website redesign any good?"
   ]
  },
  {
   "cell_type": "markdown",
   "id": "7b653341",
   "metadata": {},
   "source": [
    "Pearson's R \n",
    "```=``` \n",
    "CONTINUOUS:  \n",
    "```vs```\n",
    "CONTINUOUS: \n",
    "\n",
    "H0:\n",
    "\n",
    "Ha:\n",
    "\n",
    "True Pos:\n",
    "\n",
    "True Neg:\n",
    "\n",
    "Type I Error:\n",
    "\n",
    "Type II Error:"
   ]
  },
  {
   "cell_type": "markdown",
   "id": "f91ab750",
   "metadata": {},
   "source": [
    "3. Is our television ad driving more sales?"
   ]
  },
  {
   "cell_type": "markdown",
   "id": "dca50da4",
   "metadata": {},
   "source": [
    "### T-Test\n",
    "\n",
    "DISCREAT: Add Before/After\n",
    "```vs```\n",
    "CONTINUOUS: Mean of Sales\n",
    "\n",
    "$H_{0}$: Mean of Sales.Before <= Mean of Sales.After\n",
    "\n",
    "$H_{a}$: Mean of Sales.Before > Mean of Sales.After\n",
    "\n",
    "True Pos: Rejected H0 and H0 was False (our True was True)\n",
    "* \"Sales increased after the Ad aired\"\n",
    "* We said it was True AND it was True\n",
    "* We said it was Positive AND it was Positive\n",
    "\n",
    "True Neg: Accept the H0 and H0 is True (our False was True) \n",
    "* \"Sales did not increase after Ad aired\"\n",
    "* We said it was False AND it was False\n",
    "* We said it was Negative AND it was Negative\n",
    "\n",
    "Type I Error: Rejected the H0 BUT the H0 was True (our True was False; No Wolf)\n",
    "* We rejected the NULL statement BUT it was NULL\n",
    "* We said it was True BUT it was False\n",
    "* We said it was Positive BUT it was Negative\n",
    "\n",
    "Type II Error: Accept H0 BUT H0 is False (our False was True; We didn't believe in the Wolf BUT he was Real)\n",
    "* We accepted the NULL BUT it was not NULL\n",
    "* We said it was False BUT it was True\n",
    "* We said it was Negative BUT it was Positive"
   ]
  },
  {
   "cell_type": "markdown",
   "id": "d2cfb485",
   "metadata": {},
   "source": [
    "#### WRONG\n",
    "\n",
    "Chi-Squared \n",
    "```=``` \n",
    "DISCREAT: Television Ad airs Before/After \n",
    "```vs```\n",
    "DISCREAT: Sales increase True/False\n",
    "\n",
    "H0: Airing the Ad has no Relation to an increase in sales\n",
    "\n",
    "Ha: Airing the Ad has a Relation to an increase in sales\n",
    "\n",
    "True Pos: Rejected H0 and H0 was False (our True was True)\n",
    "\"There is a Significant Relationship between the Airing of the Ad and an Increase in Sales.\"\n",
    "\n",
    "True Neg: Accept the H0 and H0 is True (our False was True)\n",
    "\"There is little to no Relationship between the Airing of the Ad and an Increase in Sales.\"\n",
    "\n",
    "Type I Error: We said there is a relationship BUT there is NOT\n",
    "\n",
    "Type II Error: We said there is NO relationship and there was."
   ]
  },
  {
   "cell_type": "markdown",
   "id": "2431e2e4",
   "metadata": {},
   "source": [
    "# Exercise 2 - T-Test\n",
    "\n",
    "Continue working in your ```hypothesis_testing``` notebook."
   ]
  },
  {
   "cell_type": "code",
   "execution_count": 55,
   "id": "c7a0da06",
   "metadata": {},
   "outputs": [],
   "source": [
    "import pandas as pd\n",
    "\n",
    "from math import sqrt\n",
    "import numpy as np\n",
    "import scipy.stats as stats\n",
    "import statistics\n",
    "\n",
    "from pydataset import data\n",
    "\n",
    "import seaborn as sns\n",
    "import matplotlib.pyplot as plt\n",
    "%config InlineBackend.figure_format = 'retina'"
   ]
  },
  {
   "cell_type": "markdown",
   "id": "1ba8eca6",
   "metadata": {},
   "source": [
    "### 1. Answer with the type of test you would use (assume normal distribution):"
   ]
  },
  {
   "cell_type": "markdown",
   "id": "75f6721f",
   "metadata": {},
   "source": [
    "### 1.1 Is there a difference in grades of students on the second floor compared to grades of all students?"
   ]
  },
  {
   "cell_type": "markdown",
   "id": "9bbcee9a",
   "metadata": {},
   "source": [
    "#### ANSWER:\n",
    "One-Sample T-test\n",
    "\n",
    "```2nd_floor_grades.mean``` == ```all_grades.mean```\n",
    "* One-Sample Mean vs Population Mean\n",
    "* One Sample T-test\n",
    "* 2-Tailed test ($H_{0}$ = Significantly Different ```== | !=```)"
   ]
  },
  {
   "cell_type": "markdown",
   "id": "8922b792",
   "metadata": {},
   "source": [
    "### 1.2 Are adults who drink milk taller than adults who dont drink milk?"
   ]
  },
  {
   "cell_type": "markdown",
   "id": "eee5bb64",
   "metadata": {},
   "source": [
    "#### ANSWER:\n",
    "Independent T-Test (a.k.a. Two Sample T-Test)\n",
    "\n",
    "```milk_drinkers.mean.height``` > ```non-milk_drinkers.mean.height```\n",
    "* 1-tailed test ($H_{a}$ = Significantly higher or lower ```> | <=```)"
   ]
  },
  {
   "cell_type": "markdown",
   "id": "d37e132d",
   "metadata": {},
   "source": [
    "### 1.3 Is the the price of gas higher in texas or in new mexico?"
   ]
  },
  {
   "cell_type": "markdown",
   "id": "19b666ac",
   "metadata": {},
   "source": [
    "#### ANSWER:\n",
    "Independent T-Test (a.k.a. Two Sample T-Test)\n",
    "\n",
    "```texas_gas_price.mean``` > ```new_mexico_gas_price.mean```\n",
    "* 1-tailed test ($H_{a}$ = Significantly higher or lower ```> | <=```)"
   ]
  },
  {
   "cell_type": "markdown",
   "id": "3ed394af",
   "metadata": {},
   "source": [
    "### 1.4 Are there differences in stress levels between students who take data science vs students who take web development vs students who take cloud academy?"
   ]
  },
  {
   "cell_type": "markdown",
   "id": "d959aaec",
   "metadata": {},
   "source": [
    "#### ANSWER:\n",
    "ANOVA Analysis of Variance & Kruskal Wallis Test\n",
    "* Goal: Compare means of groups a, b & c.\n",
    "* Verify Assumptions: If assumptions are met, use ANOVA, if not, use Kruskall Wallis\n",
    "\n",
    "```ds_stress.mean``` == ```wd_stress.mean``` == ```cloud_stress.mean```"
   ]
  },
  {
   "cell_type": "markdown",
   "id": "c28890b4",
   "metadata": {},
   "source": [
    "### 2. Ace Realty wants to determine whether the average time it takes to sell homes is different for its two offices. \n",
    "* A sample of 40 sales from office #1 revealed a mean of 90 days and a standard deviation of 15 days. \n",
    "* A sample of 50 sales from office #2 revealed a mean of 100 days and a standard deviation of 20 days. \n",
    "* Use a .05 level of significance."
   ]
  },
  {
   "cell_type": "markdown",
   "id": "6649e9a7",
   "metadata": {},
   "source": [
    "**A. Plot Distribution**"
   ]
  },
  {
   "cell_type": "code",
   "execution_count": 56,
   "id": "54b28a43",
   "metadata": {},
   "outputs": [
    {
     "data": {
      "text/plain": [
       "<matplotlib.legend.Legend at 0x14afc51c0>"
      ]
     },
     "execution_count": 56,
     "metadata": {},
     "output_type": "execute_result"
    },
    {
     "data": {
      "image/png": "[encoded data removed]",
      "text/plain": [
       "<Figure size 648x432 with 1 Axes>"
      ]
     },
     "metadata": {
      "image/png": {
       "height": 357,
       "width": 552
      },
      "needs_background": "light"
     },
     "output_type": "display_data"
    }
   ],
   "source": [
    "x = np.arange(50,150)\n",
    "\n",
    "y1 = stats.norm(90, 15).pdf(x)\n",
    "y2 = stats.norm(100, 20).pdf(x)\n",
    "\n",
    "plt.figure(figsize=(9,6))\n",
    "plt.plot(x, y1, label = 'o1')\n",
    "plt.plot(x, y2, label = 'o2')\n",
    "plt.axvline(90, ls = ':')\n",
    "plt.axvline(100, ls = ':', color = 'orange')\n",
    "\n",
    "plt.legend()"
   ]
  },
  {
   "cell_type": "markdown",
   "id": "d830804b",
   "metadata": {},
   "source": [
    "**B. Set Hypothesis**\n",
    "\n",
    "* One Tail (```<= | >```) or Two Tails (```== | !=```)?\\\n",
    " **Different = Two Tails**\n",
    "\n",
    "\n",
    "* One Sample or Two Samples?\\\n",
    " **Two Samples (o1, o2)**\n",
    "\n",
    "\n",
    "* Continuous or Discreat?\\\n",
    " **Discreat (o1, o2) vs Continuous (avg time) = T-Test**\n",
    "     * T-Test = ```Discreat``` vs ```Continuous```\n",
    "     * Pearson's = ```Continuous``` vs ```Continuous``` (linear)\n",
    "     * $Chi^2$ = ```Discreat``` vs ```Discreat```\n",
    "\n",
    "\n",
    "* $𝐻_0$: The opposite of what I am trying to prove\\\n",
    " **$H_{0}$: Office #1 Sales average ```equals``` Office #2 Sales average**\\\n",
    " ```o1_sales_time.mean``` == ```o2_sales_time.mean```\n",
    "\n",
    "\n",
    "* $𝐻_𝑎$: What am I trying to prove\\\n",
    " **$H_{a}$: Office #1 Sales average is ```different than``` Office #2 Sales average**\\\n",
    " ```o1_sales_time.mean``` != ```o2_sales_time.mean```"
   ]
  },
  {
   "cell_type": "markdown",
   "id": "874e6c93",
   "metadata": {},
   "source": [
    "**C. Set Alpha**\n",
    "* remember that our confidence level determines our alpha, \n",
    "* which we use to compare to p"
   ]
  },
  {
   "cell_type": "code",
   "execution_count": 57,
   "id": "d24eaabd",
   "metadata": {},
   "outputs": [],
   "source": [
    "α = 0.05"
   ]
  },
  {
   "cell_type": "markdown",
   "id": "82869bfc",
   "metadata": {},
   "source": [
    "**D. Verify Assumptions**\n",
    "* How big is sample size?\n",
    "* If sample size is significantly > 30, we don't have to worry about normality (CLT!!)"
   ]
  },
  {
   "cell_type": "code",
   "execution_count": 58,
   "id": "c2b4eab4",
   "metadata": {},
   "outputs": [],
   "source": [
    "# np.random.normal(loc = 'mean', scale = 'std', size = '(columns, rows)')\n",
    "o1 = np.random.normal(loc = 90, scale = 15, size = (40))\n",
    "o2 = np.random.normal(loc = 100, scale = 20, size = (50))\n",
    "\n",
    "# o1 = stats.norm(90, 15).rvs(40) \n",
    "# o1 = stats.norm(100, 20).rvs(50)"
   ]
  },
  {
   "cell_type": "code",
   "execution_count": 59,
   "id": "2711e05b",
   "metadata": {},
   "outputs": [
    {
     "name": "stdout",
     "output_type": "stream",
     "text": [
      "165.76556601376873\n",
      "420.65758860838787\n"
     ]
    }
   ],
   "source": [
    "print(o1.var())\n",
    "print(o2.var())"
   ]
  },
  {
   "cell_type": "code",
   "execution_count": 63,
   "id": "e357c8e2",
   "metadata": {},
   "outputs": [
    {
     "name": "stdout",
     "output_type": "stream",
     "text": [
      "equal_var = False (we cannot assume equal variance)\n"
     ]
    }
   ],
   "source": [
    "stat, p_val = stats.levene(o1, o2)\n",
    "\n",
    "if p_val < α:\n",
    "    print('equal_var = False (we cannot assume equal variance)')\n",
    "else:\n",
    "    print('equal_var = True (we will assume equal variance)')"
   ]
  },
  {
   "cell_type": "markdown",
   "id": "bea0a445",
   "metadata": {},
   "source": [
    "**E. Compute test statistic and probability (t-statistic & p-value)**\n",
    "\n",
    "- scipy.stats.ttest_1samp\n",
    "- For a 1-tailed test where our alternative hypothesis is testing for \"greater than\", we evaluate 𝑝/2 < 𝛼  and  𝑡 > 0. "
   ]
  },
  {
   "cell_type": "code",
   "execution_count": 64,
   "id": "392bfa41",
   "metadata": {},
   "outputs": [
    {
     "name": "stdout",
     "output_type": "stream",
     "text": [
      "t-stat: -4.097654034884477\n",
      "p-value: 9.601221739469066e-05\n"
     ]
    }
   ],
   "source": [
    "#Using Scipy \n",
    "\n",
    "t_stat, p_val = stats.ttest_ind(o1, o2, equal_var = False)\n",
    "print(f't-stat: {t_stat}')\n",
    "print(f'p-value: {p_val}')"
   ]
  },
  {
   "cell_type": "markdown",
   "id": "6327e6f3",
   "metadata": {},
   "source": [
    "### But we used random values?\n",
    "\n",
    "We note that simulating the random values from the distributive stats are not providing us with the level of detail that we may want out of a problem like this. In order to get the most ideal results possible, we will conduct a slightly different variation of the test using ttest_ind_from_stats, which is more alligned with the information that has been posited to us in this specific scenario.\n",
    "\n",
    "T-test using descriptive stats: https://docs.scipy.org/doc/scipy/reference/generated/scipy.stats.ttest_ind_from_stats.html"
   ]
  },
  {
   "cell_type": "code",
   "execution_count": 68,
   "id": "455a4aa6",
   "metadata": {},
   "outputs": [
    {
     "name": "stdout",
     "output_type": "stream",
     "text": [
      "t-stat: -2.7091418459143854\n",
      "p-value: 9.601221739469066e-05\n"
     ]
    }
   ],
   "source": [
    "t_stat, pval = stats.ttest_ind_from_stats(90,15,40,100,20,50, equal_var=False)\n",
    "print(f't-stat: {t_stat}')\n",
    "print(f'p-value: {p_val}')"
   ]
  },
  {
   "cell_type": "markdown",
   "id": "210f89ad",
   "metadata": {},
   "source": [
    "**F. DECIDE (Is p-value less than alpha?)**\n",
    "* implications of one-tailed two-sampled t-test:\n",
    "* p will be divided by two because we are only looking at one tail of the curve\n",
    "* we will pay attention to the sign of our t-statistic\n",
    "* t, p = t-test: (group A, group B) ==> comparison of mu_a > mu_b"
   ]
  },
  {
   "cell_type": "code",
   "execution_count": 72,
   "id": "2f9c1518",
   "metadata": {},
   "outputs": [
    {
     "name": "stdout",
     "output_type": "stream",
     "text": [
      "We can reject the null hypothesis\n"
     ]
    }
   ],
   "source": [
    "\"\"\"\n",
    "# One-Tail\n",
    "if (t > 0) and ((p / 2) < a):\n",
    "    print('We can reject the null hypothesis')\n",
    "else:\n",
    "    print('we fail to reject the null hypothesis')\n",
    "\"\"\"\n",
    "\n",
    "# Two-Tail\n",
    "if p_val < a:\n",
    "    print('We can reject the null hypothesis')\n",
    "else:\n",
    "    print('we fail to reject the null hypothesis')"
   ]
  },
  {
   "cell_type": "markdown",
   "id": "27b3a6b0",
   "metadata": {},
   "source": [
    "### 3. Load the ```mpg``` dataset and use it to answer the following questions:"
   ]
  },
  {
   "cell_type": "markdown",
   "id": "578fd0b9",
   "metadata": {},
   "source": [
    "### 3.1 Is there a difference in fuel-efficiency in cars from 2008 vs 1999?"
   ]
  },
  {
   "cell_type": "code",
   "execution_count": null,
   "id": "36fd35bd",
   "metadata": {},
   "outputs": [],
   "source": []
  },
  {
   "cell_type": "markdown",
   "id": "03d01d40",
   "metadata": {},
   "source": [
    "### 3.2 Are compact cars more fuel-efficient than the average car?"
   ]
  },
  {
   "cell_type": "code",
   "execution_count": null,
   "id": "662e319a",
   "metadata": {},
   "outputs": [],
   "source": []
  },
  {
   "cell_type": "markdown",
   "id": "8c0e0050",
   "metadata": {},
   "source": [
    "### 3.3 Do manual cars get better gas mileage than automatic cars?"
   ]
  },
  {
   "cell_type": "markdown",
   "id": "5d58eeb2",
   "metadata": {},
   "source": [
    "One Tail or Two Tails?\n",
    "\n",
    "One Sample or Two Samples?\n",
    "\n",
    "Continuous or Discreat?\n",
    "\n",
    "$H_0$: The opposite of what I am trying to prove\n",
    "\n",
    "$H_a$: What am I trying to prove"
   ]
  },
  {
   "cell_type": "code",
   "execution_count": null,
   "id": "a3102fc4",
   "metadata": {},
   "outputs": [],
   "source": []
  },
  {
   "cell_type": "markdown",
   "id": "243a6b4b",
   "metadata": {},
   "source": [
    "# Exercise 3 - Correlation\n",
    "Continue working in your ```hypothesis_testing``` notebook."
   ]
  },
  {
   "cell_type": "markdown",
   "id": "7b445352",
   "metadata": {},
   "source": [
    "### 1. Answer with the type of stats test you would use (assume normal distribution):"
   ]
  },
  {
   "cell_type": "markdown",
   "id": "41250f9d",
   "metadata": {},
   "source": [
    "### 1.1 Is there a relationship between the length of your arm and the length of your foot?"
   ]
  },
  {
   "cell_type": "code",
   "execution_count": null,
   "id": "109ace45",
   "metadata": {},
   "outputs": [],
   "source": []
  },
  {
   "cell_type": "markdown",
   "id": "d397ebd5",
   "metadata": {},
   "source": [
    "### 1.2 Do guys and gals quit their jobs at the same rate?"
   ]
  },
  {
   "cell_type": "code",
   "execution_count": null,
   "id": "ac2a09be",
   "metadata": {},
   "outputs": [],
   "source": []
  },
  {
   "cell_type": "markdown",
   "id": "6f2e2fea",
   "metadata": {},
   "source": [
    "### 1.3 Does the length of time of the lecture correlate with a students grade?"
   ]
  },
  {
   "cell_type": "code",
   "execution_count": null,
   "id": "e3e11983",
   "metadata": {},
   "outputs": [],
   "source": []
  },
  {
   "cell_type": "markdown",
   "id": "05a33dd0",
   "metadata": {},
   "source": [
    "### 2. Use the ```telco_churn``` data."
   ]
  },
  {
   "cell_type": "code",
   "execution_count": null,
   "id": "c54c9a22",
   "metadata": {},
   "outputs": [],
   "source": []
  },
  {
   "cell_type": "markdown",
   "id": "1a4b4c34",
   "metadata": {},
   "source": [
    "### 2.1 Does tenure correlate with monthly charges?"
   ]
  },
  {
   "cell_type": "code",
   "execution_count": null,
   "id": "0d379659",
   "metadata": {},
   "outputs": [],
   "source": []
  },
  {
   "cell_type": "markdown",
   "id": "8d9e441a",
   "metadata": {},
   "source": [
    "### 2.2 Total charges?"
   ]
  },
  {
   "cell_type": "code",
   "execution_count": null,
   "id": "02e2282e",
   "metadata": {},
   "outputs": [],
   "source": []
  },
  {
   "cell_type": "markdown",
   "id": "924554e9",
   "metadata": {},
   "source": [
    "### 2.3 What happens if you control for phone and internet service?"
   ]
  },
  {
   "cell_type": "code",
   "execution_count": null,
   "id": "0e86f80f",
   "metadata": {},
   "outputs": [],
   "source": []
  },
  {
   "cell_type": "markdown",
   "id": "9476cdfb",
   "metadata": {},
   "source": [
    "### 3. Use the ```employees``` database."
   ]
  },
  {
   "cell_type": "markdown",
   "id": "d2db0d3c",
   "metadata": {},
   "source": [
    "### 3.1 Is there a relationship between how long an employee has been with the company and their salary?"
   ]
  },
  {
   "cell_type": "markdown",
   "id": "55501db2",
   "metadata": {},
   "source": [
    "**B. Set Hypothesis**\n",
    "\n",
    "* One Tail (```<= | >```) or Two Tails (```== | !=```)?\\\n",
    " **Different = Two Tails**\n",
    "\n",
    "\n",
    "* One Sample or Two Samples?\\\n",
    " **Two Samples (o1, o2)**\n",
    "\n",
    "\n",
    "* Continuous or Discreat?\\\n",
    " **Continuous (Tenure) vs Continuous (Salary) = Pearson's R**\n",
    "     * T-Test = ```Discreat``` vs ```Continuous```\n",
    "     * Pearson's R = ```Continuous``` vs ```Continuous``` (linear)\n",
    "     * $Chi^2$ = ```Discreat``` vs ```Discreat```\n",
    "\n",
    "\n",
    "* $𝐻_0$: The opposite of what I am trying to prove\\\n",
    " **$H_{0}$: There is no ```linear relationship``` between employee Tenure and Salary**\\\n",
    " ```employee.tenure.mean``` and ```employee.salary.mean``` are NOT linear\n",
    "\n",
    "\n",
    "* $𝐻_𝑎$: What am I trying to prove\\\n",
    " **$H_{a}$: There is a ```linear relationship``` between employee Tenure and Salary**\\\n",
    " ```o1_sales_time.mean``` and ```o2_sales_time.mean``` are linear"
   ]
  },
  {
   "cell_type": "code",
   "execution_count": null,
   "id": "e5365720",
   "metadata": {},
   "outputs": [],
   "source": []
  },
  {
   "cell_type": "markdown",
   "id": "d680a34b",
   "metadata": {},
   "source": [
    "### 3.2 Is there a relationship between how long an employee has been with the company and the number of titles they have had?"
   ]
  },
  {
   "cell_type": "code",
   "execution_count": null,
   "id": "5ce5c68b",
   "metadata": {},
   "outputs": [],
   "source": []
  },
  {
   "cell_type": "markdown",
   "id": "45afab51",
   "metadata": {},
   "source": [
    "### 4. Use the ```sleepstudy``` data."
   ]
  },
  {
   "cell_type": "markdown",
   "id": "8164be73",
   "metadata": {},
   "source": [
    "### 4.1 Is there a relationship between days and reaction time?"
   ]
  },
  {
   "cell_type": "code",
   "execution_count": null,
   "id": "5dedadfb",
   "metadata": {},
   "outputs": [],
   "source": []
  },
  {
   "cell_type": "markdown",
   "id": "351b8dc3",
   "metadata": {},
   "source": [
    "# Exercise 4 - Chi Squared\n",
    "\n",
    "Continue working in your ```hypothesis_testing``` notebook."
   ]
  },
  {
   "cell_type": "markdown",
   "id": "53d92f0b",
   "metadata": {},
   "source": [
    "### 1. Answer with the type of stats test you would use (assume normal distribution):"
   ]
  },
  {
   "cell_type": "markdown",
   "id": "252d8c03",
   "metadata": {},
   "source": [
    "### 1.1 Do students get better test grades if they have a rubber duck on their desk?"
   ]
  },
  {
   "cell_type": "markdown",
   "id": "bf91754a",
   "metadata": {},
   "source": [
    "* One Tail (```<= | >```) or Two Tails (```== | !=```)?\\\n",
    " **One_Tail = with_Duckie.grades.mean > without_Duckie.grades.mean**\n",
    "\n",
    "\n",
    "* One Sample or Two Samples?\\\n",
    " **Two Samples (with, without)**\n",
    "\n",
    "\n",
    "* Continuous or Discreat?\\\n",
    " **Discreat (Rubber Duckie) vs Continuous (Test Grades) = T-Test**\n",
    "     * T-Test = ```Discreat``` vs ```Continuous```\n",
    "     * Pearson's R = ```Continuous``` vs ```Continuous``` (linear)\n",
    "     * $Chi^2$ = ```Discreat``` vs ```Discreat```\n"
   ]
  },
  {
   "cell_type": "markdown",
   "id": "957c334f",
   "metadata": {},
   "source": [
    "### 1.2 Does smoking affect when or not someone has lung cancer?"
   ]
  },
  {
   "cell_type": "markdown",
   "id": "1b0bbffe",
   "metadata": {},
   "source": [
    "* One Tail (```<= | >```) or Two Tails (```== | !=```)?\\\n",
    " **Two_tails = Smoker == Cancer**\n",
    "\n",
    "\n",
    "* One Sample or Two Samples?\\\n",
    " **Two Samples (Smoker, Cancer)**\n",
    "\n",
    "\n",
    "* Continuous or Discreat?\\\n",
    " **Discreat (Smoker) vs Discreat (Cancer) = $Chi^2$**\n",
    "     * T-Test = ```Discreat``` vs ```Continuous```\n",
    "     * Pearson's R = ```Continuous``` vs ```Continuous``` (linear)\n",
    "     * $Chi^2$ = ```Discreat``` vs ```Discreat```"
   ]
  },
  {
   "cell_type": "markdown",
   "id": "1e68effb",
   "metadata": {},
   "source": [
    "### 1.3 Is gender independent of a person’s blood type?"
   ]
  },
  {
   "cell_type": "markdown",
   "id": "6ded52bb",
   "metadata": {},
   "source": [
    "* One Tail (```<= | >```) or Two Tails (```== | !=```)?\\\n",
    " **Two_Tails = Gender == Blood Type**\n",
    "\n",
    "\n",
    "* One Sample or Two Samples?\\\n",
    " **Two Samples (Gender, Blood Type)**\n",
    "\n",
    "\n",
    "* Continuous or Discreat?\\\n",
    " **Discreat (Gender) vs Discreat (Blood Type) = $Chi^2$**\n",
    "     * T-Test = ```Discreat``` vs ```Continuous```\n",
    "     * Pearson's R = ```Continuous``` vs ```Continuous``` (linear)\n",
    "     * $Chi^2$ = ```Discreat``` vs ```Discreat```"
   ]
  },
  {
   "cell_type": "markdown",
   "id": "836431e5",
   "metadata": {},
   "source": [
    "### 1.4 A farming company wants to know if a new fertilizer has improved crop yield or not"
   ]
  },
  {
   "cell_type": "markdown",
   "id": "f811be61",
   "metadata": {},
   "source": [
    "* One Tail (```<= | >```) or Two Tails (```== | !=```)?\\\n",
    " **One_Tail = New_Fertilizer.Crop_Yield.mean > Old_Fertilizer.Crop_Yield.mean**\n",
    "\n",
    "\n",
    "* One Sample or Two Samples?\\\n",
    " **Two Samples (New, Old)**\n",
    "\n",
    "\n",
    "* Continuous or Discreat?\\\n",
    " **Discreat (New Fertilizer) vs Continuous (Crop Yield) = T-Test**\n",
    "     * T-Test = ```Discreat``` vs ```Continuous```\n",
    "     * Pearson's R = ```Continuous``` vs ```Continuous``` (linear)\n",
    "     * $Chi^2$ = ```Discreat``` vs ```Discreat```"
   ]
  },
  {
   "cell_type": "markdown",
   "id": "b8f18af0",
   "metadata": {},
   "source": [
    "### 1.5 Does the length of time of the lecture correlate with a students grade?"
   ]
  },
  {
   "cell_type": "markdown",
   "id": "7fe6e7d3",
   "metadata": {},
   "source": [
    "* One Tail (```<= | >```) or Two Tails (```== | !=```)?\\\n",
    " **NO TAIL**\n",
    "\n",
    "\n",
    "* One Sample or Two Samples?\\\n",
    " **Two Samples (Lecture_Time, Float_Grade)**\n",
    "\n",
    "\n",
    "* Continuous or Discreat?\\\n",
    " **Continuous (Lecture Time) vs Continuous (Float Grade) = Pearson's R**\n",
    "     * T-Test = ```Discreat``` vs ```Continuous```\n",
    "     * Pearson's R = ```Continuous``` vs ```Continuous``` (linear)\n",
    "     * $Chi^2$ = ```Discreat``` vs ```Discreat```"
   ]
  },
  {
   "cell_type": "markdown",
   "id": "9e402627",
   "metadata": {},
   "source": [
    "### 1.6 Do people with dogs live in apartments more than people with cats?"
   ]
  },
  {
   "cell_type": "markdown",
   "id": "18d264fc",
   "metadata": {},
   "source": [
    "* One Tail (```<= | >```) or Two Tails (```== | !=```)?\\\n",
    " **One_Tail = Dogs > Cats**\n",
    "\n",
    "\n",
    "* One Sample or Two Samples?\\\n",
    " **Two Samples (Pet_Type, Apartment_Bool)**\n",
    "\n",
    "\n",
    "* Continuous or Discreat?\\\n",
    " **Discreat (Dog, Cat) vs Discreat (Apartment_Bool) = $Chi^2$**\n",
    "     * T-Test = ```Discreat``` vs ```Continuous```\n",
    "     * Pearson's R = ```Continuous``` vs ```Continuous``` (linear)\n",
    "     * $Chi^2$ = ```Discreat``` vs ```Discreat```"
   ]
  },
  {
   "cell_type": "markdown",
   "id": "04774f81",
   "metadata": {},
   "source": [
    "### 2. Use the following contingency table to help answer the question of whether using a macbook and being a codeup student are independent of each other.\n",
    "\n",
    "\n",
    "||Codeup Student|Not Codeup Student||\n",
    "|---|---|---|---|\n",
    "|Uses a Macbook|49|20|\n",
    "|Doesn't Use A Macbook|1|30|\n"
   ]
  },
  {
   "cell_type": "markdown",
   "id": "6f29ad54",
   "metadata": {},
   "source": [
    "**B. Set Hypothesis**\n",
    "\n",
    "* One Tail (```<= | >```) or Two Tails (```== | !=```)?\\\n",
    " **Two_Tails = Student == MacBook**\n",
    "\n",
    "\n",
    "* One Sample or Two Samples?\\\n",
    " **Two Samples (Student, MacBook)**\n",
    "\n",
    "\n",
    "* Continuous or Discreat?\\\n",
    " **Discreat (Student) vs Discreat (MacBook) = $Chi^2$**\n",
    "    * T-Test = ```Discreat``` vs ```Continuous```\n",
    "    * Pearson's = ```Continuous``` vs ```Continuous``` (linear)\n",
    "    * $Chi^2$ = ```Discreat``` vs ```Discreat```\n",
    "\n",
    "\n",
    "* $𝐻_0$: The opposite of what I am trying to prove\\\n",
    " **$H_{0}$: Using a MacBook is ```dependant``` of being a Codeup Student**\\\n",
    " ```MacBook_True.mean``` == ```Codeup_Student.mean```\n",
    "\n",
    "\n",
    "* $𝐻_𝑎$: What am I trying to prove\\\n",
    " **$H_{a}$: Using a MacBook is **NOT** ```dependant``` of being a Codeup Student**\\\n",
    " ```MacBook_True.mean``` != ```Codeup_Student.mean```"
   ]
  },
  {
   "cell_type": "code",
   "execution_count": 104,
   "id": "409f8ca1",
   "metadata": {},
   "outputs": [
    {
     "data": {
      "text/plain": [
       "([49, 20], [1, 30])"
      ]
     },
     "execution_count": 104,
     "metadata": {},
     "output_type": "execute_result"
    }
   ],
   "source": [
    "observed = ([49,20],[1,30])\n",
    "observed"
   ]
  },
  {
   "cell_type": "code",
   "execution_count": 105,
   "id": "960fc485",
   "metadata": {},
   "outputs": [
    {
     "data": {
      "text/html": [
       "<div>\n",
       "<style scoped>\n",
       "    .dataframe tbody tr th:only-of-type {\n",
       "        vertical-align: middle;\n",
       "    }\n",
       "\n",
       "    .dataframe tbody tr th {\n",
       "        vertical-align: top;\n",
       "    }\n",
       "\n",
       "    .dataframe thead th {\n",
       "        text-align: right;\n",
       "    }\n",
       "</style>\n",
       "<table border=\"1\" class=\"dataframe\">\n",
       "  <thead>\n",
       "    <tr style=\"text-align: right;\">\n",
       "      <th></th>\n",
       "      <th>0</th>\n",
       "      <th>1</th>\n",
       "    </tr>\n",
       "  </thead>\n",
       "  <tbody>\n",
       "    <tr>\n",
       "      <th>0</th>\n",
       "      <td>49</td>\n",
       "      <td>20</td>\n",
       "    </tr>\n",
       "    <tr>\n",
       "      <th>1</th>\n",
       "      <td>1</td>\n",
       "      <td>30</td>\n",
       "    </tr>\n",
       "  </tbody>\n",
       "</table>\n",
       "</div>"
      ],
      "text/plain": [
       "    0   1\n",
       "0  49  20\n",
       "1   1  30"
      ]
     },
     "execution_count": 105,
     "metadata": {},
     "output_type": "execute_result"
    }
   ],
   "source": [
    "observed = pd.DataFrame(observed)\n",
    "observed"
   ]
  },
  {
   "cell_type": "code",
   "execution_count": 106,
   "id": "56abef86",
   "metadata": {},
   "outputs": [],
   "source": [
    "chi2, p, degf, expected = stats.chi2_contingency(observed)"
   ]
  },
  {
   "cell_type": "code",
   "execution_count": 107,
   "id": "e9a80a00",
   "metadata": {},
   "outputs": [
    {
     "name": "stdout",
     "output_type": "stream",
     "text": [
      "Observed\n",
      "[[49 20]\n",
      " [ 1 30]]\n",
      "\n",
      "Expected\n",
      "[[34 34]\n",
      " [15 15]]\n",
      "\n",
      "----\n",
      "chi^2 = 36.6526\n",
      "p     = 1.4116760526193828e-09\n"
     ]
    }
   ],
   "source": [
    "#output values\n",
    "print('Observed')\n",
    "print(observed.values)\n",
    "print('\\nExpected')\n",
    "print(expected.astype(int))\n",
    "print('\\n----')\n",
    "print(f'chi^2 = {chi2:.4f}')\n",
    "print(f'p     = {p}')"
   ]
  },
  {
   "cell_type": "code",
   "execution_count": 109,
   "id": "9e23f96b",
   "metadata": {},
   "outputs": [
    {
     "name": "stdout",
     "output_type": "stream",
     "text": [
      "We reject the null hypothesis\n"
     ]
    }
   ],
   "source": [
    "if p < α:\n",
    "    print('We reject the null hypothesis')\n",
    "else:\n",
    "    print('We fail to reject the null hypothesis')"
   ]
  },
  {
   "cell_type": "markdown",
   "id": "7176de47",
   "metadata": {},
   "source": [
    "### 3. Choose another 2 categorical variables from the ```mpg``` dataset and perform a $chi^{2}$ contingency table test with them. Be sure to state your null and alternative hypotheses."
   ]
  },
  {
   "cell_type": "code",
   "execution_count": null,
   "id": "9ad63fd2",
   "metadata": {},
   "outputs": [],
   "source": []
  },
  {
   "cell_type": "markdown",
   "id": "b974f76e",
   "metadata": {},
   "source": [
    "### 4. Use the data from the ```employees``` database to answer these questions:"
   ]
  },
  {
   "cell_type": "markdown",
   "id": "37201b37",
   "metadata": {},
   "source": [
    "### 4.1 Is an employee's gender independent of whether an employee works in sales or marketing? (only look at current employees)"
   ]
  },
  {
   "cell_type": "markdown",
   "id": "a410ca00",
   "metadata": {},
   "source": [
    "**B. Set Hypothesis**\n",
    "\n",
    "* One Tail (```<= | >```) or Two Tails (```== | !=```)?\\\n",
    " **Different = Two Tails**\n",
    "\n",
    "\n",
    "* One Sample or Two Samples?\\\n",
    " **Two Samples (o1, o2)**\n",
    "\n",
    "\n",
    "* Continuous or Discreat?\\\n",
    " **Discreat (gender) vs Discreat (sales, marketing) = $Chi^2$**\n",
    "     * T-Test = ```Discreat``` vs ```Continuous```\n",
    "     * Pearson's = ```Continuous``` vs ```Continuous``` (linear)\n",
    "     * $Chi^2$ = ```Discreat``` vs ```Discreat```\n",
    "\n",
    "\n",
    "* $𝐻_0$: The opposite of what I am trying to prove\\\n",
    " **$H_{0}$: Office #1 Sales average ```equals``` Office #2 Sales average**\\\n",
    " ```o1_sales_time.mean``` == ```o2_sales_time.mean```\n",
    "\n",
    "\n",
    "* $𝐻_𝑎$: What am I trying to prove\\\n",
    " **$H_{a}$: Office #1 Sales average is ```different than``` Office #2 Sales average**\\\n",
    " ```o1_sales_time.mean``` != ```o2_sales_time.mean```"
   ]
  },
  {
   "cell_type": "code",
   "execution_count": null,
   "id": "cd6b0e15",
   "metadata": {},
   "outputs": [],
   "source": []
  },
  {
   "cell_type": "markdown",
   "id": "9b82bb57",
   "metadata": {},
   "source": [
    "### 4.2 Is an employee's gender independent of whether or not they are or have been a manager?"
   ]
  },
  {
   "cell_type": "code",
   "execution_count": null,
   "id": "2495e1ff",
   "metadata": {},
   "outputs": [],
   "source": []
  }
 ],
 "metadata": {
  "kernelspec": {
   "display_name": "Python 3 (ipykernel)",
   "language": "python",
   "name": "python3"
  },
  "language_info": {
   "codemirror_mode": {
    "name": "ipython",
    "version": 3
   },
   "file_extension": ".py",
   "mimetype": "text/x-python",
   "name": "python",
   "nbconvert_exporter": "python",
   "pygments_lexer": "ipython3",
   "version": "3.9.12"
  }
 },
 "nbformat": 4,
 "nbformat_minor": 5
}

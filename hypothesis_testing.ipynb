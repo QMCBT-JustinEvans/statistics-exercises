{
 "cells": [
  {
   "cell_type": "markdown",
   "id": "ac7093f1",
   "metadata": {},
   "source": [
    "### Exercises\n",
    "\n",
    "Do your work for this exercise in a jupyter notebook named hypothesis_testing.ipynb.\n",
    "\n",
    "For each of the following questions, \n",
    "* formulate a null and alternative hypothesis (be as specific as you can be), \n",
    "* then give an example of what a true positive, true negative, type I and type II errors would look like. \n",
    "\n",
    "Note that some of the questions are intentionally phrased in a vague way. \n",
    "\n",
    "It is your job to reword these as more precise questions that could be tested."
   ]
  },
  {
   "cell_type": "markdown",
   "id": "1be207fd",
   "metadata": {},
   "source": [
    "1. Has the network latency gone up since we switched internet service providers?"
   ]
  },
  {
   "cell_type": "markdown",
   "id": "1510c443",
   "metadata": {},
   "source": [
    "## T-Test\n",
    "\n",
    "DISCREAT: Switched Providers New/Old\n",
    "```vs```\n",
    "CONTINUOUS: Mean of Latency\n",
    "\n",
    "$H_{0}$: Mean of Latency.Old <= Mean of Latency.New\n",
    "\n",
    "$H_{a}$: Mean of Latency.Old > Mean of Latency.New\n",
    "\n",
    "True Pos: Rejected H0 and H0 was False (our True was True)\n",
    "\"Latency went up and we said it did\"\n",
    "\n",
    "True Neg: Accept the H0 and H0 is True (our False was True) \n",
    "\"Latency went did not go up and we said it did not\"\n",
    "\n",
    "Type I Error: Rejected the H0 BUT the H0 was True (our True was False; No Wolf)\n",
    "We rejected the NULL statement BUT it was NULL\n",
    "\n",
    "Type II Error: Accept H0 BUT H0 is False (our False was True; We didn't believe in the Wolf BUT he was Real)\n",
    "We accepted the NULL BUT it was not NULL"
   ]
  },
  {
   "cell_type": "markdown",
   "id": "bdce80e0",
   "metadata": {},
   "source": [
    "## WRONG\n",
    "\n",
    "Chi-Squared \n",
    "```=``` \n",
    "DISCREAT: Latency up True/False \n",
    "```vs```\n",
    "DISCREAT: Switched Providers New/Old\n",
    "\n",
    "H0: Network Latency is NOT Relational to new Service Provider\n",
    "\n",
    "Ha: Network Latency is Relational to new Service Provider\n",
    "\n",
    "True Pos: Rejected H0 and H0 was False (our True was True)\n",
    "\"There is a Significant Relationship between the increase of Latency and our switch to a New Service Provider\"\n",
    "\n",
    "True Neg: Accept the H0 and H0 is True (our False was True) \n",
    "\"There was little evidence of a Relationship between the increase of Latency and our switch to a New Service Provider\"\n",
    "\n",
    "Type I Error: Rejected the H0 BUT the H0 was True (our True was False; No Wolf)\n",
    "We rejected the NULL statement BUT it was NULL\n",
    "\n",
    "Type II Error: Accept H0 BUT H0 is False (our False was True; We didn't believe in the Wolf BUT he was Real)\n",
    "We accepted the NULL BUT it was not NULL"
   ]
  },
  {
   "cell_type": "markdown",
   "id": "74f9728b",
   "metadata": {},
   "source": [
    "2. Is the website redesign any good?"
   ]
  },
  {
   "cell_type": "markdown",
   "id": "7b653341",
   "metadata": {},
   "source": [
    "Pearson's R \n",
    "```=``` \n",
    "CONTINUOUS:  \n",
    "```vs```\n",
    "CONTINUOUS: \n",
    "\n",
    "H0:\n",
    "\n",
    "Ha:\n",
    "\n",
    "True Pos:\n",
    "\n",
    "True Neg:\n",
    "\n",
    "Type I Error:\n",
    "\n",
    "Type II Error:"
   ]
  },
  {
   "cell_type": "markdown",
   "id": "f91ab750",
   "metadata": {},
   "source": [
    "3. Is our television ad driving more sales?"
   ]
  },
  {
   "cell_type": "markdown",
   "id": "dca50da4",
   "metadata": {},
   "source": [
    "## T-Test\n",
    "\n",
    "DISCREAT: Add Before/After\n",
    "```vs```\n",
    "CONTINUOUS: Mean of Sales\n",
    "\n",
    "$H_{0}$: Mean of Sales.Before <= Mean of Sales.After\n",
    "\n",
    "$H_{a}$: Mean of Sales.Before > Mean of Sales.After\n",
    "\n",
    "True Pos: Rejected H0 and H0 was False (our True was True)\n",
    "* \"Sales increased after the Ad aired\"\n",
    "* We said it was True AND it was True\n",
    "* We said it was Positive AND it was Positive\n",
    "\n",
    "True Neg: Accept the H0 and H0 is True (our False was True) \n",
    "* \"Sales did not increase after Ad aired\"\n",
    "* We said it was False AND it was False\n",
    "* We said it was Negative AND it was Negative\n",
    "\n",
    "Type I Error: Rejected the H0 BUT the H0 was True (our True was False; No Wolf)\n",
    "* We rejected the NULL statement BUT it was NULL\n",
    "* We said it was True BUT it was False\n",
    "* We said it was Positive BUT it was Negative\n",
    "\n",
    "Type II Error: Accept H0 BUT H0 is False (our False was True; We didn't believe in the Wolf BUT he was Real)\n",
    "* We accepted the NULL BUT it was not NULL\n",
    "* We said it was False BUT it was True\n",
    "* We said it was Negative BUT it was Positive"
   ]
  },
  {
   "cell_type": "markdown",
   "id": "d2cfb485",
   "metadata": {},
   "source": [
    "## WRONG\n",
    "\n",
    "Chi-Squared \n",
    "```=``` \n",
    "DISCREAT: Television Ad airs Before/After \n",
    "```vs```\n",
    "DISCREAT: Sales increase True/False\n",
    "\n",
    "H0: Airing the Ad has no Relation to an increase in sales\n",
    "\n",
    "Ha: Airing the Ad has a Relation to an increase in sales\n",
    "\n",
    "True Pos: Rejected H0 and H0 was False (our True was True)\n",
    "\"There is a Significant Relationship between the Airing of the Ad and an Increase in Sales.\"\n",
    "\n",
    "True Neg: Accept the H0 and H0 is True (our False was True)\n",
    "\"There is little to no Relationship between the Airing of the Ad and an Increase in Sales.\"\n",
    "\n",
    "Type I Error: We said there is a relationship BUT there is NOT\n",
    "\n",
    "Type II Error: We said there is NO relationship and there was."
   ]
  },
  {
   "cell_type": "code",
   "execution_count": null,
   "id": "5053737d",
   "metadata": {},
   "outputs": [],
   "source": []
  }
 ],
 "metadata": {
  "kernelspec": {
   "display_name": "Python 3 (ipykernel)",
   "language": "python",
   "name": "python3"
  },
  "language_info": {
   "codemirror_mode": {
    "name": "ipython",
    "version": 3
   },
   "file_extension": ".py",
   "mimetype": "text/x-python",
   "name": "python",
   "nbconvert_exporter": "python",
   "pygments_lexer": "ipython3",
   "version": "3.9.12"
  }
 },
 "nbformat": 4,
 "nbformat_minor": 5
}

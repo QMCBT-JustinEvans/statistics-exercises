{
 "cells": [
  {
   "cell_type": "markdown",
   "id": "ac7093f1",
   "metadata": {},
   "source": [
    "# Exercise 1 - Overview\n",
    "\n",
    "Do your work for this exercise in a jupyter notebook named hypothesis_testing.ipynb.\n",
    "\n",
    "For each of the following questions, \n",
    "* formulate a null and alternative hypothesis (be as specific as you can be), \n",
    "* then give an example of what a true positive, true negative, type I and type II errors would look like. \n",
    "\n",
    "Note that some of the questions are intentionally phrased in a vague way. \n",
    "\n",
    "It is your job to reword these as more precise questions that could be tested."
   ]
  },
  {
   "cell_type": "markdown",
   "id": "1be207fd",
   "metadata": {},
   "source": [
    "1. Has the network latency gone up since we switched internet service providers?"
   ]
  },
  {
   "cell_type": "markdown",
   "id": "1510c443",
   "metadata": {},
   "source": [
    "#### T-Test\n",
    "\n",
    "DISCREAT: Switched Providers New/Old\n",
    "```vs```\n",
    "CONTINUOUS: Mean of Latency\n",
    "\n",
    "$H_{0}$: Mean of Latency.Old <= Mean of Latency.New\n",
    "\n",
    "$H_{a}$: Mean of Latency.Old > Mean of Latency.New\n",
    "\n",
    "True Pos: Rejected H0 and H0 was False (our True was True)\n",
    "\"Latency went up and we said it did\"\n",
    "\n",
    "True Neg: Accept the H0 and H0 is True (our False was True) \n",
    "\"Latency went did not go up and we said it did not\"\n",
    "\n",
    "Type I Error: Rejected the H0 BUT the H0 was True (our True was False; No Wolf)\n",
    "We rejected the NULL statement BUT it was NULL\n",
    "\n",
    "Type II Error: Accept H0 BUT H0 is False (our False was True; We didn't believe in the Wolf BUT he was Real)\n",
    "We accepted the NULL BUT it was not NULL"
   ]
  },
  {
   "cell_type": "markdown",
   "id": "bdce80e0",
   "metadata": {},
   "source": [
    "### WRONG\n",
    "\n",
    "Chi-Squared \n",
    "```=``` \n",
    "DISCREAT: Latency up True/False \n",
    "```vs```\n",
    "DISCREAT: Switched Providers New/Old\n",
    "\n",
    "H0: Network Latency is NOT Relational to new Service Provider\n",
    "\n",
    "Ha: Network Latency is Relational to new Service Provider\n",
    "\n",
    "True Pos: Rejected H0 and H0 was False (our True was True)\n",
    "\"There is a Significant Relationship between the increase of Latency and our switch to a New Service Provider\"\n",
    "\n",
    "True Neg: Accept the H0 and H0 is True (our False was True) \n",
    "\"There was little evidence of a Relationship between the increase of Latency and our switch to a New Service Provider\"\n",
    "\n",
    "Type I Error: Rejected the H0 BUT the H0 was True (our True was False; No Wolf)\n",
    "We rejected the NULL statement BUT it was NULL\n",
    "\n",
    "Type II Error: Accept H0 BUT H0 is False (our False was True; We didn't believe in the Wolf BUT he was Real)\n",
    "We accepted the NULL BUT it was not NULL"
   ]
  },
  {
   "cell_type": "markdown",
   "id": "74f9728b",
   "metadata": {},
   "source": [
    "2. Is the website redesign any good?"
   ]
  },
  {
   "cell_type": "markdown",
   "id": "7b653341",
   "metadata": {},
   "source": [
    "Pearson's R \n",
    "```=``` \n",
    "CONTINUOUS:  \n",
    "```vs```\n",
    "CONTINUOUS: \n",
    "\n",
    "H0:\n",
    "\n",
    "Ha:\n",
    "\n",
    "True Pos:\n",
    "\n",
    "True Neg:\n",
    "\n",
    "Type I Error:\n",
    "\n",
    "Type II Error:"
   ]
  },
  {
   "cell_type": "markdown",
   "id": "f91ab750",
   "metadata": {},
   "source": [
    "3. Is our television ad driving more sales?"
   ]
  },
  {
   "cell_type": "markdown",
   "id": "dca50da4",
   "metadata": {},
   "source": [
    "### T-Test\n",
    "\n",
    "DISCREAT: Add Before/After\n",
    "```vs```\n",
    "CONTINUOUS: Mean of Sales\n",
    "\n",
    "$H_{0}$: Mean of Sales.Before <= Mean of Sales.After\n",
    "\n",
    "$H_{a}$: Mean of Sales.Before > Mean of Sales.After\n",
    "\n",
    "True Pos: Rejected H0 and H0 was False (our True was True)\n",
    "* \"Sales increased after the Ad aired\"\n",
    "* We said it was True AND it was True\n",
    "* We said it was Positive AND it was Positive\n",
    "\n",
    "True Neg: Accept the H0 and H0 is True (our False was True) \n",
    "* \"Sales did not increase after Ad aired\"\n",
    "* We said it was False AND it was False\n",
    "* We said it was Negative AND it was Negative\n",
    "\n",
    "Type I Error: Rejected the H0 BUT the H0 was True (our True was False; No Wolf)\n",
    "* We rejected the NULL statement BUT it was NULL\n",
    "* We said it was True BUT it was False\n",
    "* We said it was Positive BUT it was Negative\n",
    "\n",
    "Type II Error: Accept H0 BUT H0 is False (our False was True; We didn't believe in the Wolf BUT he was Real)\n",
    "* We accepted the NULL BUT it was not NULL\n",
    "* We said it was False BUT it was True\n",
    "* We said it was Negative BUT it was Positive"
   ]
  },
  {
   "cell_type": "markdown",
   "id": "d2cfb485",
   "metadata": {},
   "source": [
    "#### WRONG\n",
    "\n",
    "Chi-Squared \n",
    "```=``` \n",
    "DISCREAT: Television Ad airs Before/After \n",
    "```vs```\n",
    "DISCREAT: Sales increase True/False\n",
    "\n",
    "H0: Airing the Ad has no Relation to an increase in sales\n",
    "\n",
    "Ha: Airing the Ad has a Relation to an increase in sales\n",
    "\n",
    "True Pos: Rejected H0 and H0 was False (our True was True)\n",
    "\"There is a Significant Relationship between the Airing of the Ad and an Increase in Sales.\"\n",
    "\n",
    "True Neg: Accept the H0 and H0 is True (our False was True)\n",
    "\"There is little to no Relationship between the Airing of the Ad and an Increase in Sales.\"\n",
    "\n",
    "Type I Error: We said there is a relationship BUT there is NOT\n",
    "\n",
    "Type II Error: We said there is NO relationship and there was."
   ]
  },
  {
   "cell_type": "markdown",
   "id": "9398560a",
   "metadata": {},
   "source": [
    "# Exercise 2 - T-Test\n",
    "\n",
    "Continue working in your ```hypothesis_testing``` notebook."
   ]
  },
  {
   "cell_type": "markdown",
   "id": "6a29cdac",
   "metadata": {},
   "source": [
    "### 1. Answer with the type of test you would use (assume normal distribution):"
   ]
  },
  {
   "cell_type": "markdown",
   "id": "113a7704",
   "metadata": {},
   "source": [
    "### 1.1 Is there a difference in grades of students on the second floor compared to grades of all students?"
   ]
  },
  {
   "cell_type": "markdown",
   "id": "0b19f309",
   "metadata": {},
   "source": [
    "#### ANSWER:\n",
    "One-Sample T-test\n",
    "\n",
    "```2nd_floor_grades.mean``` == ```all_grades.mean```\n",
    "* One-Sample Mean vs Population Mean\n",
    "* One Sample T-test\n",
    "* 2-Tailed test ($H_{0}$ = Significantly Different ```== | !=```)"
   ]
  },
  {
   "cell_type": "markdown",
   "id": "59c4aa2a",
   "metadata": {},
   "source": [
    "### 1.2 Are adults who drink milk taller than adults who dont drink milk?"
   ]
  },
  {
   "cell_type": "markdown",
   "id": "9c33ed46",
   "metadata": {},
   "source": [
    "#### ANSWER:\n",
    "Independent T-Test (a.k.a. Two Sample T-Test)\n",
    "\n",
    "```milk_drinkers.mean.height``` > ```non-milk_drinkers.mean.height```\n",
    "* 1-tailed test ($H_{a}$ = Significantly higher or lower ```> | <=```)"
   ]
  },
  {
   "cell_type": "markdown",
   "id": "36ae2c86",
   "metadata": {},
   "source": [
    "### 1.3 Is the the price of gas higher in texas or in new mexico?"
   ]
  },
  {
   "cell_type": "markdown",
   "id": "34180740",
   "metadata": {},
   "source": [
    "#### ANSWER:\n",
    "Independent T-Test (a.k.a. Two Sample T-Test)\n",
    "\n",
    "```texas_gas_price.mean``` > ```new_mexico_gas_price.mean```\n",
    "* 1-tailed test ($H_{a}$ = Significantly higher or lower ```> | <=```)"
   ]
  },
  {
   "cell_type": "markdown",
   "id": "80bbfcac",
   "metadata": {},
   "source": [
    "### 1.4 Are there differences in stress levels between students who take data science vs students who take web development vs students who take cloud academy?"
   ]
  },
  {
   "cell_type": "markdown",
   "id": "cba6f489",
   "metadata": {},
   "source": [
    "#### ANSWER:\n",
    "ANOVA Analysis of Variance & Kruskal Wallis Test\n",
    "* Goal: Compare means of groups a, b & c.\n",
    "* Verify Assumptions: If assumptions are met, use ANOVA, if not, use Kruskall Wallis\n",
    "\n",
    "```ds_stress.mean``` == ```wd_stress.mean``` == ```cloud_stress.mean```"
   ]
  },
  {
   "cell_type": "markdown",
   "id": "f512aa48",
   "metadata": {},
   "source": [
    "### 2. Ace Realty wants to determine whether the average time it takes to sell homes is different for its two offices. \n",
    "* A sample of 40 sales from office #1 revealed a mean of 90 days and a standard deviation of 15 days. \n",
    "* A sample of 50 sales from office #2 revealed a mean of 100 days and a standard deviation of 20 days. \n",
    "* Use a .05 level of significance."
   ]
  },
  {
   "cell_type": "markdown",
   "id": "070fb8af",
   "metadata": {},
   "source": [
    "#### ANSWER:\n",
    "Two-Sample T-test (Independent)\n",
    "\n",
    "```o1_sales_time.mean``` == ```o2_sales_time.mean```\n",
    "   * Compare Two Sample Means\n",
    "   * 2-Tailed test ($H_{0}$ = Significantly Different ```== | !=```)\n",
    "   \n",
    "$H_{0}$: Office #1 Sales average ```equals``` Office #2 Sales average\n",
    "* ```o1_sales_time.mean``` == ```o2_sales_time.mean```\n",
    "\n",
    "$H_{a}$: Office #1 Sales average is ```different than``` Office #2 Sales average\n",
    "* ```o1_sales_time.mean``` != ```o2_sales_time.mean```"
   ]
  },
  {
   "cell_type": "code",
   "execution_count": 27,
   "id": "0f99b572",
   "metadata": {},
   "outputs": [],
   "source": [
    "import pandas as pd\n",
    "\n",
    "import numpy as np\n",
    "import scipy.stats as stats\n",
    "\n",
    "import seaborn as sns\n",
    "import matplotlib.pyplot as plt\n",
    "%config InlineBackend.figure_format = 'retina'"
   ]
  },
  {
   "cell_type": "code",
   "execution_count": 31,
   "id": "face99c6",
   "metadata": {},
   "outputs": [],
   "source": [
    "# np.random.normal(loc = 'mean', scale = 'std', size = '(columns, rows)')\n",
    "o1 = np.random.normal(loc = 90, scale = 15, size = (40))\n",
    "o2 = np.random.normal(loc = 100, scale = 20, size = (50))\n",
    "\n",
    "# o1 = stats.norm(90, 15).rvs(40) \n",
    "# o1 = stats.norm(100, 20).rvs(50)"
   ]
  },
  {
   "cell_type": "markdown",
   "id": "ee7e83af",
   "metadata": {},
   "source": [
    "**A. Plot Distribution**"
   ]
  },
  {
   "cell_type": "code",
   "execution_count": null,
   "id": "44d93d05",
   "metadata": {},
   "outputs": [],
   "source": [
    "x = np.arange(50,150)\n",
    "\n",
    "y1 = stats.norm(90, 15).pdf(x)\n",
    "y2 = stats.norm(100, 20).pdf(y)\n",
    "\n",
    "plt.figure(figsize=(9,6))\n",
    "plt.plot"
   ]
  },
  {
   "cell_type": "markdown",
   "id": "bbe72778",
   "metadata": {},
   "source": [
    "**B. Set Hypothesis**\n",
    "\n",
    "$H_{0}$: Office #1 Sales average ```equals``` Office #2 Sales average\n",
    "* ```o1_sales_time.mean``` == ```o2_sales_time.mean```\n",
    "\n",
    "$H_{a}$: Office #1 Sales average is ```different than``` Office #2 Sales average\n",
    "* ```o1_sales_time.mean``` != ```o2_sales_time.mean```"
   ]
  },
  {
   "cell_type": "markdown",
   "id": "f0f1c935",
   "metadata": {},
   "source": [
    "**C. Set Alpha**\n",
    "* remember that our confidence level determines our alpha, \n",
    "* which we use to compare to p"
   ]
  },
  {
   "cell_type": "code",
   "execution_count": 41,
   "id": "7dc0664f",
   "metadata": {},
   "outputs": [],
   "source": [
    "α = 0.05"
   ]
  },
  {
   "cell_type": "markdown",
   "id": "ad19a47f",
   "metadata": {},
   "source": [
    "**D. Verify Assumptions**\n",
    "* How big is sample size?\n",
    "* If sample size is significantly > 30, we don't have to worry about normality (CLT!!)"
   ]
  },
  {
   "cell_type": "code",
   "execution_count": 42,
   "id": "f5b6f0b1",
   "metadata": {},
   "outputs": [
    {
     "name": "stdout",
     "output_type": "stream",
     "text": [
      "equal_var = False (we cannot assume equal variance)\n"
     ]
    }
   ],
   "source": [
    "# lets perform a mini hypothesis test for variance:\n",
    "# H0: the variance between weight of american cars and japanese cars is equivalent\n",
    "# Ha: the variance between weight of american cars and japanense cars is inequal\n",
    "# alpha: 0.05\n",
    "stat, p_levene = stats.levene(o1, o2)\n",
    "\n",
    "if p_levene < α:\n",
    "    print('equal_var = False (we cannot assume equal variance)')\n",
    "else:\n",
    "    print('equal_var = True (we will assume equal variance)')"
   ]
  },
  {
   "cell_type": "markdown",
   "id": "011b4aeb",
   "metadata": {},
   "source": [
    "**E. Compute test statistic and probability (t-statistic & p-value)**\n",
    "\n",
    "- scipy.stats.ttest_1samp\n",
    "- For a 1-tailed test where our alternative hypothesis is testing for \"greater than\", we evaluate 𝑝/2 < 𝛼  and  𝑡 > 0. "
   ]
  },
  {
   "cell_type": "markdown",
   "id": "6574b527",
   "metadata": {},
   "source": []
  },
  {
   "cell_type": "markdown",
   "id": "767474fb",
   "metadata": {},
   "source": [
    "* implications of one-tailed two-sampled t-test:\n",
    "* p will be divided by two because we are only looking at one tail of the curve\n",
    "* we will pay attention to the sign of our t-statistic\n",
    "* t, p = t-test: (group A, group B) ==> comparison of mu_a > mu_b"
   ]
  },
  {
   "cell_type": "code",
   "execution_count": null,
   "id": "a77764f2",
   "metadata": {},
   "outputs": [],
   "source": [
    "t, p = stats.ttest_ind(o1, o2, equal_var=False)\n",
    "t, p"
   ]
  },
  {
   "cell_type": "code",
   "execution_count": 15,
   "id": "5745c57a",
   "metadata": {
    "scrolled": true
   },
   "outputs": [],
   "source": []
  },
  {
   "cell_type": "code",
   "execution_count": null,
   "id": "55378151",
   "metadata": {},
   "outputs": [],
   "source": []
  },
  {
   "cell_type": "code",
   "execution_count": 16,
   "id": "a39afa54",
   "metadata": {},
   "outputs": [],
   "source": [
    "stat, pval = stats.levene(o1, o2)"
   ]
  },
  {
   "cell_type": "code",
   "execution_count": 18,
   "id": "78f3cef0",
   "metadata": {},
   "outputs": [
    {
     "data": {
      "text/plain": [
       "(1.255663234028933, 0.26552239080591583)"
      ]
     },
     "execution_count": 18,
     "metadata": {},
     "output_type": "execute_result"
    }
   ],
   "source": [
    "stat, pval"
   ]
  },
  {
   "cell_type": "code",
   "execution_count": null,
   "id": "bfe538f9",
   "metadata": {},
   "outputs": [],
   "source": [
    "t, p = stats.ttest_ind(o1, o2, equal_var=False)\n",
    "t, p"
   ]
  },
  {
   "cell_type": "markdown",
   "id": "32702141",
   "metadata": {},
   "source": [
    "**F. DECIDE (Is p-value less than alpha?)**"
   ]
  },
  {
   "cell_type": "code",
   "execution_count": 34,
   "id": "1d4f0b7c",
   "metadata": {},
   "outputs": [
    {
     "ename": "NameError",
     "evalue": "name 'p_val' is not defined",
     "output_type": "error",
     "traceback": [
      "\u001b[0;31m---------------------------------------------------------------------------\u001b[0m",
      "\u001b[0;31mNameError\u001b[0m                                 Traceback (most recent call last)",
      "Input \u001b[0;32mIn [34]\u001b[0m, in \u001b[0;36m<cell line: 8>\u001b[0;34m()\u001b[0m\n\u001b[1;32m      1\u001b[0m \u001b[38;5;66;03m# One-Tail\u001b[39;00m\n\u001b[1;32m      2\u001b[0m \u001b[38;5;66;03m#if (t > 0) and ((p / 2) < a):\u001b[39;00m\n\u001b[1;32m      3\u001b[0m \u001b[38;5;66;03m#    print('We can reject the null hypothesis')\u001b[39;00m\n\u001b[0;32m   (...)\u001b[0m\n\u001b[1;32m      6\u001b[0m \n\u001b[1;32m      7\u001b[0m \u001b[38;5;66;03m# Two-Tail\u001b[39;00m\n\u001b[0;32m----> 8\u001b[0m \u001b[38;5;28;01mif\u001b[39;00m \u001b[43mp_val\u001b[49m \u001b[38;5;241m<\u001b[39m a:\n\u001b[1;32m      9\u001b[0m     \u001b[38;5;28mprint\u001b[39m(\u001b[38;5;124m'\u001b[39m\u001b[38;5;124mWe can reject the null hypothesis\u001b[39m\u001b[38;5;124m'\u001b[39m)\n\u001b[1;32m     10\u001b[0m \u001b[38;5;28;01melse\u001b[39;00m:\n",
      "\u001b[0;31mNameError\u001b[0m: name 'p_val' is not defined"
     ]
    }
   ],
   "source": [
    "# One-Tail\n",
    "#if (t > 0) and ((p / 2) < a):\n",
    "#    print('We can reject the null hypothesis')\n",
    "#else:\n",
    "#    print('we fail to reject the null hypothesis')\n",
    "\n",
    "# Two-Tail\n",
    "if p_val < a:\n",
    "    print('We can reject the null hypothesis')\n",
    "else:\n",
    "    print('we fail to reject the null hypothesis')"
   ]
  },
  {
   "cell_type": "markdown",
   "id": "36274fdb",
   "metadata": {},
   "source": [
    "### 3. Load the ```mpg``` dataset and use it to answer the following questions:"
   ]
  },
  {
   "cell_type": "markdown",
   "id": "4d3f2f53",
   "metadata": {},
   "source": [
    "### 3.1 Is there a difference in fuel-efficiency in cars from 2008 vs 1999?"
   ]
  },
  {
   "cell_type": "code",
   "execution_count": null,
   "id": "e472a63f",
   "metadata": {},
   "outputs": [],
   "source": []
  },
  {
   "cell_type": "markdown",
   "id": "759d3b46",
   "metadata": {},
   "source": [
    "### 3.2 Are compact cars more fuel-efficient than the average car?"
   ]
  },
  {
   "cell_type": "code",
   "execution_count": null,
   "id": "0fe1be01",
   "metadata": {},
   "outputs": [],
   "source": []
  },
  {
   "cell_type": "markdown",
   "id": "b48a99c4",
   "metadata": {},
   "source": [
    "### 3.3 Do manual cars get better gas mileage than automatic cars?"
   ]
  },
  {
   "cell_type": "markdown",
   "id": "57c2705f",
   "metadata": {},
   "source": [
    "One Tail or Two Tails?\n",
    "\n",
    "One Sample or Two Samples?\n",
    "\n",
    "Continuous or Discreat?\n",
    "\n",
    "$H_0$: The opposite of what I am trying to prove\n",
    "\n",
    "$H_a$: What am I trying to prove"
   ]
  },
  {
   "cell_type": "code",
   "execution_count": null,
   "id": "bae29792",
   "metadata": {},
   "outputs": [],
   "source": []
  },
  {
   "cell_type": "markdown",
   "id": "93760a60",
   "metadata": {},
   "source": [
    "# Exercise 3 - Correlation\n",
    "Continue working in your ```hypothesis_testing``` notebook."
   ]
  },
  {
   "cell_type": "markdown",
   "id": "d39e623e",
   "metadata": {},
   "source": [
    "### 1. Answer with the type of stats test you would use (assume normal distribution):"
   ]
  },
  {
   "cell_type": "markdown",
   "id": "61c1a989",
   "metadata": {},
   "source": [
    "### 1.1 Is there a relationship between the length of your arm and the length of your foot?"
   ]
  },
  {
   "cell_type": "code",
   "execution_count": null,
   "id": "b19249b4",
   "metadata": {},
   "outputs": [],
   "source": []
  },
  {
   "cell_type": "markdown",
   "id": "fd086c32",
   "metadata": {},
   "source": [
    "### 1.2 Do guys and gals quit their jobs at the same rate?"
   ]
  },
  {
   "cell_type": "code",
   "execution_count": null,
   "id": "7cb92ea9",
   "metadata": {},
   "outputs": [],
   "source": []
  },
  {
   "cell_type": "markdown",
   "id": "04cc4ef4",
   "metadata": {},
   "source": [
    "### 1.3 Does the length of time of the lecture correlate with a students grade?"
   ]
  },
  {
   "cell_type": "code",
   "execution_count": null,
   "id": "9b6c801b",
   "metadata": {},
   "outputs": [],
   "source": []
  },
  {
   "cell_type": "markdown",
   "id": "be421e1a",
   "metadata": {},
   "source": [
    "### 2. Use the ```telco_churn``` data."
   ]
  },
  {
   "cell_type": "code",
   "execution_count": null,
   "id": "d0944470",
   "metadata": {},
   "outputs": [],
   "source": []
  },
  {
   "cell_type": "markdown",
   "id": "cfbf6d8a",
   "metadata": {},
   "source": [
    "### 2.1 Does tenure correlate with monthly charges?"
   ]
  },
  {
   "cell_type": "code",
   "execution_count": null,
   "id": "daf89b6a",
   "metadata": {},
   "outputs": [],
   "source": []
  },
  {
   "cell_type": "markdown",
   "id": "1004e088",
   "metadata": {},
   "source": [
    "### 2.2 Total charges?"
   ]
  },
  {
   "cell_type": "code",
   "execution_count": null,
   "id": "f3cbfeed",
   "metadata": {},
   "outputs": [],
   "source": []
  },
  {
   "cell_type": "markdown",
   "id": "88cbd2d0",
   "metadata": {},
   "source": [
    "### 2.3 What happens if you control for phone and internet service?"
   ]
  },
  {
   "cell_type": "code",
   "execution_count": null,
   "id": "0248859f",
   "metadata": {},
   "outputs": [],
   "source": []
  },
  {
   "cell_type": "markdown",
   "id": "a8eed2d3",
   "metadata": {},
   "source": [
    "### 3. Use the ```employees``` database."
   ]
  },
  {
   "cell_type": "markdown",
   "id": "c4a9b6eb",
   "metadata": {},
   "source": [
    "### 3.1 Is there a relationship between how long an employee has been with the company and their salary?"
   ]
  },
  {
   "cell_type": "code",
   "execution_count": null,
   "id": "893b356c",
   "metadata": {},
   "outputs": [],
   "source": []
  },
  {
   "cell_type": "markdown",
   "id": "08ffb7a7",
   "metadata": {},
   "source": [
    "### 3.2 Is there a relationship between how long an employee has been with the company and the number of titles they have had?"
   ]
  },
  {
   "cell_type": "code",
   "execution_count": null,
   "id": "e46652cd",
   "metadata": {},
   "outputs": [],
   "source": []
  },
  {
   "cell_type": "markdown",
   "id": "43ef017c",
   "metadata": {},
   "source": [
    "### 4. Use the ```sleepstudy``` data."
   ]
  },
  {
   "cell_type": "markdown",
   "id": "63d3549b",
   "metadata": {},
   "source": [
    "### 4.1 Is there a relationship between days and reaction time?"
   ]
  },
  {
   "cell_type": "code",
   "execution_count": null,
   "id": "0375a5da",
   "metadata": {},
   "outputs": [],
   "source": []
  }
 ],
 "metadata": {
  "kernelspec": {
   "display_name": "Python 3 (ipykernel)",
   "language": "python",
   "name": "python3"
  },
  "language_info": {
   "codemirror_mode": {
    "name": "ipython",
    "version": 3
   },
   "file_extension": ".py",
   "mimetype": "text/x-python",
   "name": "python",
   "nbconvert_exporter": "python",
   "pygments_lexer": "ipython3",
   "version": "3.9.12"
  }
 },
 "nbformat": 4,
 "nbformat_minor": 5
}

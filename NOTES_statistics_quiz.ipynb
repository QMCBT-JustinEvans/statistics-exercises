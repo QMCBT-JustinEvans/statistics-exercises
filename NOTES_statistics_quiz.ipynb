{
 "cells": [
  {
   "cell_type": "markdown",
   "id": "20a6ad23",
   "metadata": {},
   "source": [
    "Q. 15\\\n",
    "90-120min\n",
    "\n",
    "* How to make a distribution (or simulate it) and use the distribution methods on them?\\\n",
    "Be familiar with formulas to generate data\n",
    "\n",
    "\n",
    "* What do the different distribution methods do?\\\n",
    ".pdf .pmf .cdf\n",
    "\n",
    "\n",
    "* How to pick a distribution type for a given scenario?\\\n",
    "normal or poison \n",
    "\n",
    "\n",
    "* When to use which hypothesis test?\\\n",
    "T-Test Chi^2 Pearson\n",
    "\n",
    "\n",
    "* How to write the null and alternative hypothesis for your test?\\\n",
    "$H_a$ is always your proving statement\n",
    "\n",
    "\n",
    "* Assumptions that each test has about the data?\\\n",
    "REVIEW and Acknowledge\\\n",
    "$Chi^2$ - 5 or more expected values or use Fischer\n",
    "\n",
    "\n",
    "* Type I and Type II errors\\\n"
   ]
  },
  {
   "cell_type": "code",
   "execution_count": null,
   "id": "15fe1a2e",
   "metadata": {},
   "outputs": [],
   "source": []
  }
 ],
 "metadata": {
  "kernelspec": {
   "display_name": "Python 3 (ipykernel)",
   "language": "python",
   "name": "python3"
  },
  "language_info": {
   "codemirror_mode": {
    "name": "ipython",
    "version": 3
   },
   "file_extension": ".py",
   "mimetype": "text/x-python",
   "name": "python",
   "nbconvert_exporter": "python",
   "pygments_lexer": "ipython3",
   "version": "3.9.12"
  }
 },
 "nbformat": 4,
 "nbformat_minor": 5
}
